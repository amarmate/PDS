{
 "cells": [
  {
   "cell_type": "markdown",
   "metadata": {},
   "source": [
    "# <span style=\"color:brown\"> Start Here </span> \n",
    "\n",
    "[Please Complete the following form with your details]\n",
    "\n",
    "Student Name - Michelle Buston Vega<br>\n",
    "Student id - 20230590 <br>\n",
    "Contact e-mail - m.bustonvega@gmail.com <br>\n",
    "\n",
    "\n",
    "Student Name - Mateus Baptista Amaral <br>\n",
    "Student id - 20230595 <br>\n",
    "Contact e-mail - mbaptistaamaral@gmail.com <br>"
   ]
  },
  {
   "cell_type": "markdown",
   "metadata": {},
   "source": [
    "# <span style=\"color:brown\"> Part 1 -  Variable Declaration and Manipulation </span> \n",
    "\n",
    "## Exercise I - of Lists and Random numbers\n",
    "\n",
    "**1**: Declare a variable X that stores a list of 100 integers randomly sampled between -100 and 100.<br>\n",
    "Note: You are not allowed to use third party libraries -- such as Numpy, Pandas, or Scipy -- in this exercise."
   ]
  },
  {
   "cell_type": "code",
   "execution_count": 2,
   "metadata": {},
   "outputs": [
    {
     "name": "stdout",
     "output_type": "stream",
     "text": [
      "[87, 25, 51, 17, 85, 12, 57, 6, 68, 18, 29, 100, 44, 47, 59, 28, 98, 63, 45, 12, 9, 51, 2, 22, 84, 47, 73, 98, 45, 11, 9, 48, 72, 22, 40, 82, 78, 23, 97, 57, 47, 13, 19, 4, 38, 67, 10, 77, 3, 95, 0, 22, 68, 43, 82, 35, 14, 90, 15, 12, 12, 5, 19, 29, 51, 100, 51, 48, 38, 89, 74, 94, 33, 64, 74, 90, 4, 2, 59, 23, 48, 91, 95, 62, 86, 3, 78, 85, 5, 33, 82, 39, 48, 95, 10, 79, 78, 73, 23, 74]\n"
     ]
    }
   ],
   "source": [
    "import random\n",
    "X = random.choices(range(101), k=100)\n",
    "print(X)"
   ]
  },
  {
   "cell_type": "markdown",
   "metadata": {},
   "source": [
    "**2**: How many odd numbers are in the list X?\n"
   ]
  },
  {
   "cell_type": "code",
   "execution_count": 3,
   "metadata": {},
   "outputs": [
    {
     "name": "stdout",
     "output_type": "stream",
     "text": [
      "Number of odd numbers:  51\n",
      "Number of even numbers:  49\n"
     ]
    }
   ],
   "source": [
    "odd_numbers = 0\n",
    "even_numbers = 0\n",
    "\n",
    "for i in X:\n",
    "    \n",
    "    if i%2 !=0:\n",
    "        odd_numbers +=1\n",
    "    else:\n",
    "        even_numbers +=1\n",
    "        \n",
    "print(\"Number of odd numbers: \", odd_numbers)\n",
    "print(\"Number of even numbers: \", even_numbers)"
   ]
  },
  {
   "cell_type": "markdown",
   "metadata": {},
   "source": [
    "**2.1** Check if there are as many even numbers as there are odd numbers, else discard the list and generate a new one."
   ]
  },
  {
   "cell_type": "code",
   "execution_count": 4,
   "metadata": {},
   "outputs": [
    {
     "name": "stdout",
     "output_type": "stream",
     "text": [
      "[19, 49, 9, 39, 78, 72, 4, 11, 44, 5, 92, 37, 96, 67, 55, 94, 39, 76, 92, 74, 51, 15, 77, 70, 62, 78, 79, 38, 14, 17, 60, 30, 89, 84, 77, 44, 59, 12, 5, 78, 14, 75, 56, 37, 78, 41, 73, 100, 84, 78, 3, 37, 66, 84, 58, 67, 38, 14, 54, 24, 83, 51, 13, 62, 5, 22, 70, 69, 81, 74, 84, 70, 13, 24, 48, 30, 3, 17, 20, 82, 11, 12, 5, 96, 29, 97, 34, 31, 78, 76, 26, 44, 91, 66, 57, 24, 75, 62, 77, 86]\n"
     ]
    }
   ],
   "source": [
    "if odd_numbers!=even_numbers:\n",
    "    X = random.choices(range(101), k=100)\n",
    "    print(X) #just printing if there is a new list"
   ]
  },
  {
   "cell_type": "markdown",
   "metadata": {},
   "source": [
    "**2.2** Create a pipeline to automatically perform the tasks above such that you avoid having to run the cells multiple times to reach the desired outcome."
   ]
  },
  {
   "cell_type": "code",
   "execution_count": 320,
   "metadata": {},
   "outputs": [
    {
     "name": "stdout",
     "output_type": "stream",
     "text": [
      "Odd Numbers: 50\n",
      "Even Numbers: 50\n",
      "Numbers of iterations: 34 \n",
      "\n",
      "New List: [87, 24, 99, 90, 75, 95, 74, 14, 91, 44, 59, 79, 35, 41, 80, 64, 92, 86, 28, 7, 7, 82, 22, 91, 61, 16, 65, 28, 7, 82, 57, 37, 62, 43, 24, 37, 80, 28, 87, 63, 69, 45, 81, 74, 76, 78, 60, 90, 42, 33, 72, 25, 100, 10, 62, 19, 67, 96, 73, 63, 59, 53, 20, 87, 7, 41, 87, 54, 2, 84, 34, 1, 14, 21, 56, 87, 54, 78, 39, 56, 22, 20, 19, 94, 51, 1, 90, 46, 97, 11, 21, 72, 9, 91, 93, 36, 52, 22, 10, 3]\n"
     ]
    }
   ],
   "source": [
    "#loop to generate a new list until there are as many even numbers as there are odd numbers\n",
    "def get_balanced_list(size=100):\n",
    "    # Check if the size is even\n",
    "    if size%2 != 0:\n",
    "        return \"Size must be even\"\n",
    "    number_iterations = 0 \n",
    "    while True:\n",
    "        odd_numbers = 0\n",
    "        even_numbers = 0 #reset to 0 to have the correct sum \n",
    "        X = random.choices(range(101), k=size)\n",
    "        number_iterations += 1\n",
    "        \n",
    "        #inner loop\n",
    "        for i in X:\n",
    "            if i%2 !=0:\n",
    "                odd_numbers +=1\n",
    "            else:\n",
    "                even_numbers +=1\n",
    "        if odd_numbers == even_numbers:\n",
    "            break\n",
    "\n",
    "    return X, number_iterations, odd_numbers, even_numbers\n",
    "X, number_iterations, odd_numbers, even_numbers = get_balanced_list()    \n",
    "\n",
    "print (\"Odd Numbers:\",odd_numbers)\n",
    "print (\"Even Numbers:\",even_numbers) #always 50 after loop\n",
    "print (\"Numbers of iterations:\" ,number_iterations,\"\\n\")\n",
    "print(\"New List:\",X)"
   ]
  },
  {
   "cell_type": "markdown",
   "metadata": {},
   "source": [
    "**3**: Print the number of digits that the 5th and 100th element of the list have. <br>\n",
    "*Note: For instance, the number 1 contains one digit, the number 10 contains two digits, the number -2 contains one digit.*"
   ]
  },
  {
   "cell_type": "code",
   "execution_count": 31,
   "metadata": {},
   "outputs": [
    {
     "name": "stdout",
     "output_type": "stream",
     "text": [
      "85 has 2 digits\n",
      "77 has 2 digits\n"
     ]
    }
   ],
   "source": [
    "#checking if it works for negative numbers\n",
    "a = [X[4], X[99]]\n",
    "\n",
    "for number in a:\n",
    "    length = len(str(number))\n",
    "    if number < 0:\n",
    "        print(number, \"has\", length-1, f\"digit{'s' if length-1 > 1 else ''}\")\n",
    "    else:\n",
    "        print(number, \"has\", length, f\"digit{'s' if length > 1 else ''}\")"
   ]
  },
  {
   "cell_type": "markdown",
   "metadata": {},
   "source": [
    "**4**: Is the sum total of all the numbers in the list even or odd?"
   ]
  },
  {
   "cell_type": "code",
   "execution_count": 416,
   "metadata": {},
   "outputs": [
    {
     "name": "stdout",
     "output_type": "stream",
     "text": [
      "[31, 70, 45, 90, 82, 15, 10, 63, 74, 77, 75, 80, 98, 77, 26, 19, 32, 88, 41, 56, 95, 27, 10, 16, 88, 29, 39, 74, 30, 40, 3, 99, 64, 86, 3, 34, 81, 60, 12, 49, 44, 78, 45, 58, 14, 67, 21, 31, 80, 72, 29, 65, 90, 98, 73, 7, 71, 77, 89, 62, 32, 18, 59, 26, 40, 48, 82, 71, 40, 69, 72, 41, 31, 40, 31, 2, 62, 38, 9, 75, 99, 32, 86, 5, 76, 89, 27, 6, 28, 33, 44, 33, 59, 71, 40, 89, 79, 33, 79, 48]\n",
      "The sum of all numbers in the List X is 5201 and it's odd!\n"
     ]
    }
   ],
   "source": [
    "# If there is perfect balance in the list between odd and even numbers, the sum will always be odd\n",
    "X = random.choices(range(101), k=100)\n",
    "print(X)\n",
    "sum = 0\n",
    "\n",
    "for i in X:\n",
    "    sum += i\n",
    "if sum %2 == 0:\n",
    "    print(\"The sum of all numbers in the List X is\",sum, \"and it's even!\")\n",
    "else:\n",
    "    print(\"The sum of all numbers in the List X is\",sum, \"and it's odd!\")\n",
    "    "
   ]
  },
  {
   "cell_type": "markdown",
   "metadata": {},
   "source": [
    "**5**: What is the average of the list X?"
   ]
  },
  {
   "cell_type": "code",
   "execution_count": 417,
   "metadata": {},
   "outputs": [
    {
     "name": "stdout",
     "output_type": "stream",
     "text": [
      "The sum of the list Y is 5201 and the average is 52.01\n"
     ]
    }
   ],
   "source": [
    "avg = sum/len(X)\n",
    "print(\"The sum of the list Y is\", sum, \"and the average is\", avg)"
   ]
  },
  {
   "cell_type": "markdown",
   "metadata": {},
   "source": [
    "**5.1.** What is the population standard deviation? <br>"
   ]
  },
  {
   "cell_type": "code",
   "execution_count": 425,
   "metadata": {},
   "outputs": [
    {
     "name": "stdout",
     "output_type": "stream",
     "text": [
      "27.542147701295917\n"
     ]
    }
   ],
   "source": [
    "sd_ = [(i-avg)**2 for i in X]\n",
    "sd = 0\n",
    "for i in sd_:\n",
    "    sd += i\n",
    "sd = (sd/len(X))**0.5\n",
    "print(sd)"
   ]
  },
  {
   "cell_type": "markdown",
   "metadata": {},
   "source": [
    "**6**: Sort list X in descending order and store the result in variable Xsort. <br>"
   ]
  },
  {
   "cell_type": "code",
   "execution_count": 428,
   "metadata": {},
   "outputs": [
    {
     "name": "stdout",
     "output_type": "stream",
     "text": [
      "[99, 99, 98, 98, 95, 90, 90, 89, 89, 89, 88, 88, 86, 86, 82, 82, 81, 80, 80, 79, 79, 78, 77, 77, 77, 76, 75, 75, 74, 74, 73, 72, 72, 71, 71, 71, 70, 69, 67, 65, 64, 63, 62, 62, 60, 59, 59, 58, 56, 49, 48, 48, 45, 45, 44, 44, 41, 41, 40, 40, 40, 40, 40, 39, 38, 34, 33, 33, 33, 32, 32, 32, 31, 31, 31, 31, 30, 29, 29, 28, 27, 27, 26, 26, 21, 19, 18, 16, 15, 14, 12, 10, 10, 9, 7, 6, 5, 3, 3, 2]\n"
     ]
    }
   ],
   "source": [
    "Xsort = sorted(X, reverse=True)\n",
    "print(Xsort)"
   ]
  },
  {
   "cell_type": "code",
   "execution_count": 426,
   "metadata": {},
   "outputs": [
    {
     "name": "stdout",
     "output_type": "stream",
     "text": [
      "[99, 99, 98, 98, 95, 90, 90, 89, 89, 89, 88, 88, 86, 86, 82, 82, 81, 80, 80, 79, 79, 78, 77, 77, 77, 76, 75, 75, 74, 74, 73, 72, 72, 71, 71, 71, 70, 69, 67, 65, 64, 63, 62, 62, 60, 59, 59, 58, 56, 49, 48, 48, 45, 45, 44, 44, 41, 41, 40, 40, 40, 40, 40, 39, 38, 34, 33, 33, 33, 32, 32, 32, 31, 31, 31, 31, 30, 29, 29, 28, 27, 27, 26, 26, 21, 19, 18, 16, 15, 14, 12, 10, 10, 9, 7, 6, 5, 3, 3, 2]\n"
     ]
    }
   ],
   "source": [
    "# If sorted can't be used, then:\n",
    "Xsort = []\n",
    "for number in X:\n",
    "    if len(Xsort) == 0:\n",
    "        Xsort.append(number)\n",
    "    else:\n",
    "        for i in range(len(Xsort)):\n",
    "            if number > Xsort[i]:\n",
    "                Xsort.insert(i, number)\n",
    "                break\n",
    "            elif i == len(Xsort)-1:\n",
    "                Xsort.append(number)\n",
    "                break\n",
    "print(Xsort)"
   ]
  },
  {
   "cell_type": "markdown",
   "metadata": {},
   "source": [
    "**6.1** Then replace each value in Xsort with index i as the sum of the values with index i-1 and i. <br> \n",
    "\n",
    "*Note: Consider that Xsort[-1] = 0.*"
   ]
  },
  {
   "cell_type": "code",
   "execution_count": 432,
   "metadata": {},
   "outputs": [
    {
     "name": "stdout",
     "output_type": "stream",
     "text": [
      "[99, 0, -1, 0, -3, -5, 0, -1, 0, 0, -1, 0, -2, 0, -4, 0, -1, -1, 0, -1, 0, -1, -1, 0, 0, -1, -1, 0, -1, 0, -1, -1, 0, -1, 0, 0, -1, -1, -2, -2, -1, -1, -1, 0, -2, -1, 0, -1, -2, -7, -1, 0, -3, 0, -1, 0, -3, 0, -1, 0, 0, 0, 0, -1, -1, -4, -1, 0, 0, -1, 0, 0, -1, 0, 0, 0, -1, -1, 0, -1, -1, 0, -1, 0, -5, -2, -1, -2, -1, -1, -2, -2, 0, -1, -2, -1, -1, -2, 0, -1]\n"
     ]
    }
   ],
   "source": [
    "new_Xsort = [0 for i in range(len(Xsort))]\n",
    "new_Xsort[0] = Xsort[0]\n",
    "for i in range(len(Xsort)-1):\n",
    "    new_Xsort[i+1] = Xsort[i+1] - Xsort[i]\n",
    "print(new_Xsort)"
   ]
  },
  {
   "cell_type": "markdown",
   "metadata": {},
   "source": [
    "## Exercise II - we have a gamer in the room\n",
    "\n",
    "**7**: Consider the dictionaries  *purchases* and *clients* that are declared in the cell below. <br>\n",
    "Create a list with the names of the clients who bought more than one videogame. Print the List. <br>"
   ]
  },
  {
   "cell_type": "code",
   "execution_count": 435,
   "metadata": {},
   "outputs": [],
   "source": [
    "purchases = {\n",
    "    \n",
    "    \"1539\":\"Red dead redemption II\",\n",
    "    \"9843\":\"GTA V,FarCry 5, watchdogs II\",\n",
    "    \"8472\":\"Canis Canem Edit\",\n",
    "    \"3874\":\"Watchdogs II,South Park: The Stick of Truth\",\n",
    "    \"5783\":\"AC: The Ezio Collection, watchdogs ii\",\n",
    "    \"9823\":\"For Honor,The Forest,South Park: The Fractured but whole\"\n",
    "    \n",
    "}"
   ]
  },
  {
   "cell_type": "code",
   "execution_count": 436,
   "metadata": {},
   "outputs": [],
   "source": [
    "clients = {\n",
    "    \n",
    "    \"1539\":\"Rick Sanchez\",\n",
    "    \"9843\":\"Morty Smith\",\n",
    "    \"8472\":\"Eve Polastri\",\n",
    "    \"3874\":\"Mildred Ratched\",\n",
    "    \"5783\":\"Alex Vause\",\n",
    "    \"9823\":\"Sheldon Cooper\"\n",
    "    \n",
    "}"
   ]
  },
  {
   "cell_type": "code",
   "execution_count": 449,
   "metadata": {},
   "outputs": [
    {
     "name": "stdout",
     "output_type": "stream",
     "text": [
      "{'Rick Sanchez': 1, 'Morty Smith': 3, 'Eve Polastri': 1, 'Mildred Ratched': 2, 'Alex Vause': 2, 'Sheldon Cooper': 3}\n"
     ]
    }
   ],
   "source": [
    "num_games = {}\n",
    "for purchase in purchases.items():\n",
    "    customer = purchase[0]\n",
    "    # Map the customer to the name\n",
    "    customer_name = clients[customer]\n",
    "    games = purchase[1].split(\",\")\n",
    "    num_games[customer_name] = len(games)\n",
    "print(num_games)"
   ]
  },
  {
   "cell_type": "code",
   "execution_count": 471,
   "metadata": {},
   "outputs": [
    {
     "name": "stdout",
     "output_type": "stream",
     "text": [
      "{'red dead redemption ii': 1, 'gta v': 1, 'farcry 5': 1, 'watchdogs ii': 3, 'canis canem edit': 1, 'south park: the stick of truth': 1, 'ac: the ezio collection': 1, 'for honor': 1, 'the forest': 1, 'south park: the fractured but whole': 1}\n"
     ]
    }
   ],
   "source": [
    "# Lets first create a dictonnary with the games as keys and the amount of times they were bought as values\n",
    "games = {}\n",
    "for key, value in purchases.items():\n",
    "    for game in value.split(\",\"):\n",
    "        # Ignore capitalization\n",
    "        game = game.lower()\n",
    "        # Remove spaces\n",
    "        game = game.strip()\n",
    "        # If the game is already in the dictionary, append the client\n",
    "        if game in games:\n",
    "            games[game] += 1\n",
    "        # Else, create a new entry\n",
    "        else:\n",
    "            games[game] = 1\n",
    "print(games)"
   ]
  },
  {
   "cell_type": "code",
   "execution_count": 472,
   "metadata": {},
   "outputs": [
    {
     "name": "stdout",
     "output_type": "stream",
     "text": [
      "Customers who bought more than one game: Morty Smith, Mildred Ratched, Alex Vause, Sheldon Cooper\n"
     ]
    }
   ],
   "source": [
    "bought_more_than_one = []\n",
    "for key, value in num_games.items():\n",
    "    if value > 1:\n",
    "        bought_more_than_one.append(key)\n",
    "# Join the list into a string\n",
    "print('Customers who bought more than one game:', ', '.join(bought_more_than_one))"
   ]
  },
  {
   "cell_type": "markdown",
   "metadata": {},
   "source": [
    "**7.1** What is the name of the client that bought more videogames?\n",
    "\n",
    "*Tip: You will want to check the methods associated with string manipulation. See the link: <br>\n",
    "https://python-reference.readthedocs.io/en/latest/docs/unicode/index.html*"
   ]
  },
  {
   "cell_type": "code",
   "execution_count": 473,
   "metadata": {},
   "outputs": [
    {
     "name": "stdout",
     "output_type": "stream",
     "text": [
      "Best customers: Morty Smith, Sheldon Cooper\n"
     ]
    }
   ],
   "source": [
    "best_customer = []\n",
    "for key, value in num_games.items():\n",
    "    if value == max(num_games.values()):\n",
    "        best_customer.append(key)\n",
    "\n",
    "print(f\"Best customer{'s' if len(best_customer)>1 else ''}: {', '.join(best_customer)}\")"
   ]
  },
  {
   "cell_type": "markdown",
   "metadata": {},
   "source": [
    "**7.2** What is the name of the most popular videogame?"
   ]
  },
  {
   "cell_type": "code",
   "execution_count": 476,
   "metadata": {},
   "outputs": [
    {
     "name": "stdout",
     "output_type": "stream",
     "text": [
      "Most popular game: watchdogs ii\n"
     ]
    }
   ],
   "source": [
    "most_popular_game = []\n",
    "for key, value in games.items():\n",
    "    if value == max(games.values()):\n",
    "        most_popular_game.append(key)\n",
    "print(f\"Most popular game{'s' if len(most_popular_game)>1 else ''}: {', '.join(most_popular_game)}\")"
   ]
  },
  {
   "cell_type": "markdown",
   "metadata": {},
   "source": [
    "# <span style=\"color:brown\"> Part 2 -  Data loading and analysis  </span>\n",
    "\n",
    "## Exercise I - Alice what do you have to say?\n",
    "\n",
    "**8**: Load the Alice text file into a variable called Alice. <br>\n",
    "\n",
    "*Note: Use a relative filepath in relation to the location of your notebook.*"
   ]
  },
  {
   "cell_type": "code",
   "execution_count": 478,
   "metadata": {},
   "outputs": [],
   "source": [
    "# Lets import the text file alice.txt\n",
    "with open(\"alice.txt\", \"r\") as f:\n",
    "    text = f.read()"
   ]
  },
  {
   "cell_type": "markdown",
   "metadata": {},
   "source": [
    "**9**: Create a list in which each element is a word from the file *Alice*. Store that list in a variable called *wAlice*. <br>\n",
    "\n",
    "*Note: You will need to do some text parsing here. In particular to split the sentences into words. It is also a good practice to normalize words so that words \"Hello\" and \"hello\" become identical, by making all letters lower case. <br>*\n",
    "\n",
    "*Tip: check the following links for a discussion on regular expressions. Also consult the methods available for string manipulation.*\n",
    "\n",
    "https://docs.python.org/3/library/re.html\n",
    "\n",
    "https://stackoverflow.com/questions/1276764/stripping-everything-but-alphanumeric-chars-from-a-string-in-python"
   ]
  },
  {
   "cell_type": "code",
   "execution_count": 497,
   "metadata": {},
   "outputs": [],
   "source": [
    "# Lets remove all the punctuation\n",
    "punctuation = [\"'\", '\"', \",\", \".\", \"!\", \"?\", \":\", \";\", \"(\", \")\", \"<\", \">\" ]\n",
    "for p in punctuation:\n",
    "    text = text.replace(p, \"\")\n",
    "text = text.lower()\n",
    "\n",
    "wAlice = [word for word in text.split()]"
   ]
  },
  {
   "cell_type": "markdown",
   "metadata": {},
   "source": [
    "##### Using the list *wAlice* answer the following questions:<br>\n",
    "**10**: How many words are in the file Alice.txt? <br>"
   ]
  },
  {
   "cell_type": "code",
   "execution_count": 498,
   "metadata": {},
   "outputs": [
    {
     "name": "stdout",
     "output_type": "stream",
     "text": [
      "Number of words in Alice in Wonderland: 57\n"
     ]
    }
   ],
   "source": [
    "print(\"Number of words in Alice in Wonderland:\", len(wAlice))"
   ]
  },
  {
   "cell_type": "markdown",
   "metadata": {},
   "source": [
    "**11**: What is the longest and smallest word in the text file?\n",
    "\n",
    "*Note: Length in this case is measured in terms of the number of characters.*"
   ]
  },
  {
   "cell_type": "code",
   "execution_count": 499,
   "metadata": {},
   "outputs": [
    {
     "name": "stdout",
     "output_type": "stream",
     "text": [
      "Shortest word in Alice in Wonderland: a with 1 letter\n",
      "Longest word in Alice in Wonderland: conversations with 13 letters\n"
     ]
    }
   ],
   "source": [
    "print('Shortest word in Alice in Wonderland:', min(wAlice, key=len), 'with', len(min(wAlice, key=len)), f'letter{\"s\" if len(min(wAlice, key=len))>1 else \"\"}')\n",
    "print('Longest word in Alice in Wonderland:', max(wAlice, key=len), 'with', len(max(wAlice, key=len)), f'letter{\"s\" if len(max(wAlice, key=len))>1 else \"\"}')"
   ]
  },
  {
   "cell_type": "markdown",
   "metadata": {},
   "source": [
    "**12**: Delete all the repeated words from *wAlice*. "
   ]
  },
  {
   "cell_type": "code",
   "execution_count": 500,
   "metadata": {},
   "outputs": [
    {
     "name": "stdout",
     "output_type": "stream",
     "text": [
      "['nothing', 'is', 'sitting', 'very', 'having', 'reading', 'and', 'tired', 'the', 'once', 'what', 'by', 'twice', 'conversations', 'get', 'do', 'without', 'a', 'into', 'thought', 'she', 'had', 'but', 'bank', 'peeped', 'or', 'book', 'it', 'in', 'sister', 'of', 'to', 'alice', 'no', 'beginning', 'on', 'use', 'pictures', 'was', 'conversation', 'her']\n"
     ]
    }
   ],
   "source": [
    "# Remove duplicates\n",
    "wAlice = list(set(wAlice))\n",
    "print(wAlice)"
   ]
  },
  {
   "cell_type": "markdown",
   "metadata": {},
   "source": [
    "**12.1**:How many different words does the text contain?"
   ]
  },
  {
   "cell_type": "code",
   "execution_count": 501,
   "metadata": {},
   "outputs": [
    {
     "name": "stdout",
     "output_type": "stream",
     "text": [
      "Number of unique words in Alice in Wonderland: 41\n"
     ]
    }
   ],
   "source": [
    "print(\"Number of unique words in Alice in Wonderland:\", len(wAlice))"
   ]
  },
  {
   "cell_type": "markdown",
   "metadata": {},
   "source": [
    "## Exercise II - of Countries I Love\n",
    "\n",
    "Consider the list countries in the cell below. <br>\n",
    "It consists of a list of the 3-digit ISO codes of a set of countries of interest."
   ]
  },
  {
   "cell_type": "code",
   "execution_count": 8,
   "metadata": {},
   "outputs": [],
   "source": [
    "countries = [\n",
    "\n",
    "('PRT','Portugal','Europe'),\n",
    "('ISL','Israel','Asia'),\n",
    "('COL','Colombia','South America'),\n",
    "('NEV','Nevada','North America'),\n",
    "('JPN','Japan','Asia'),\n",
    "('RUS','Russia','well... which part?'),\n",
    "('DEN','Denmark','Europe'),\n",
    "('NOR','Norway','Europe')\n",
    "    \n",
    "]"
   ]
  },
  {
   "cell_type": "markdown",
   "metadata": {},
   "source": [
    "**Now consider the file *cdata.csv* that you should download.** <br>\n",
    "\n",
    "The file contains several information about countries, and is organized as follows:\n",
    "1. Column 1 is the 3-digit **ISO Code**\n",
    "2. Column 2 is the **Full Name** of the country\n",
    "3. Column 3 is the **Continent** of the country\n",
    "4. Column 4 is the **Population Size** in 2010\n",
    "5. Column 5 is the **GDP per capita** in 2010"
   ]
  },
  {
   "cell_type": "markdown",
   "metadata": {},
   "source": [
    "**13**: Using the Library CSV from Python STL, load the file *cdata.csv* into an object called *raw*. "
   ]
  },
  {
   "cell_type": "code",
   "execution_count": null,
   "metadata": {},
   "outputs": [],
   "source": []
  },
  {
   "cell_type": "markdown",
   "metadata": {},
   "source": [
    "**13.1**: Create a dictionary called *cData* in which the key corresponds to the 3-digit ISO Code and the value is a tuple with the information contained in the 2nd to the 5th of column of the cdata file."
   ]
  },
  {
   "cell_type": "code",
   "execution_count": null,
   "metadata": {},
   "outputs": [],
   "source": []
  },
  {
   "cell_type": "markdown",
   "metadata": {},
   "source": [
    "**14**: Using *cData*, identify what is the most common Continent among the nations in the list *countries*."
   ]
  },
  {
   "cell_type": "code",
   "execution_count": null,
   "metadata": {},
   "outputs": [],
   "source": []
  },
  {
   "cell_type": "markdown",
   "metadata": {},
   "source": [
    "**15**: Using *cData*, identify what is the the most populated nation in the list *countries*."
   ]
  },
  {
   "cell_type": "code",
   "execution_count": null,
   "metadata": {},
   "outputs": [],
   "source": []
  },
  {
   "cell_type": "markdown",
   "metadata": {},
   "source": [
    "**16**: Compare the average GDP per capita of the nations in the list *countries* with the average GDP of the countries in cdata file. What can you conclude?"
   ]
  },
  {
   "cell_type": "code",
   "execution_count": null,
   "metadata": {},
   "outputs": [],
   "source": []
  },
  {
   "cell_type": "markdown",
   "metadata": {},
   "source": [
    "# <span style=\"color:brown\"> Part 3 - Functions hurt nobody </span>\n",
    "\n",
    "## Exercise I - I hate math\n",
    "\n",
    "##### Consider the following equation:\n",
    "\n",
    "\\begin{equation}\n",
    "    y = 6x^2 + 3x + 2\n",
    "\\end{equation}\n",
    "\n",
    "**17**: Write a function called *f* that takes one argument, x, and returns y according to the equation above. "
   ]
  },
  {
   "cell_type": "code",
   "execution_count": null,
   "metadata": {},
   "outputs": [],
   "source": []
  },
  {
   "cell_type": "markdown",
   "metadata": {},
   "source": [
    "**17.1**: Call the function for x = 2 and print the answer."
   ]
  },
  {
   "cell_type": "code",
   "execution_count": null,
   "metadata": {},
   "outputs": [],
   "source": []
  },
  {
   "cell_type": "markdown",
   "metadata": {},
   "source": [
    "##### Consider the following sequence of numbers:\n",
    "\n",
    "\\begin{equation}\n",
    "    x_0 = 0; ~~~ ~~~ ~~~ ~~ ~~~ ~~~ ~~~ ~~~ ~~~ ~~~ ~~~ ~~ ~~~ ~~~ ~~~ ~~ ~~~ ~~~ ~~~ ~~ ~ ~~~ ~~~ ~~~ ~~ ~~~ ~~~ ~~~ ~~ ~~~ ~~~ ~~~ ~~ ~~~ ~~~ ~~~ ~~ \\\\\n",
    "    x_{n} = x_{n-1} - n; ~~~ \\textit{ if} ~~~ x_{n-1}-n > 0 ~~~ \\textit{ and is not already in the sequence}\\\\\n",
    "    x_{n} = x_{n-1} + n; ~~~ \\textit{ otherwise} ~~~ ~~~ ~~~ ~~~ ~~ ~~~ ~~~ ~~~ ~~~ ~~~ ~ ~~~ ~~~ ~~~ ~~~ ~~~ ~~~ ~ ~~~ ~~~ ~~~~ ~~~ ~~~ ~~~ ~ \\\\\n",
    "\\end{equation}\n",
    "\n",
    "**17.2**: Write a function that returns the nth digit of the above defined sequence. <br>\n",
    "\n",
    "*Note: the above sequence is also known as the Recamán's sequence, and it was invnted by Bernardo Recamán Santos (Bogotá, Colombia)*"
   ]
  },
  {
   "cell_type": "code",
   "execution_count": null,
   "metadata": {},
   "outputs": [],
   "source": []
  },
  {
   "cell_type": "markdown",
   "metadata": {},
   "source": [
    "**17.3** Write a function named isPrime that takes an integer as input and outputs True if the number is prime and False if the number if not prime."
   ]
  },
  {
   "cell_type": "code",
   "execution_count": null,
   "metadata": {},
   "outputs": [],
   "source": []
  },
  {
   "cell_type": "markdown",
   "metadata": {},
   "source": [
    "**17.4** Test your function against some examples to show that it works as expected."
   ]
  },
  {
   "cell_type": "code",
   "execution_count": null,
   "metadata": {},
   "outputs": [],
   "source": []
  },
  {
   "cell_type": "markdown",
   "metadata": {},
   "source": [
    "## Exercise II - Monty Hall Problem\n"
   ]
  },
  {
   "cell_type": "markdown",
   "metadata": {},
   "source": [
    "**18**: The Monty Hall Problem is a probability puzzle loosely based on the American television game show \"Let's Make a Deal\" and named after its original host, Monty Hall. The puzzle can be stated as follows\n",
    "\n",
    "> Suppose you're on a game show, and you're given the choice of three doors: Behind one door is a car; behind the others, goats. You pick a door, say No. 1, and the host, who knows what's behind the doors, opens another door, say No. 3, which has a goat. He then says to you, \"Do you want to pick door No. 2?\" Is it to your advantage to switch your choice? <br>\n",
    "+info: https://en.wikipedia.org/wiki/Monty_Hall_problem\n",
    "\n",
    "While intuitively your guess might be that the chances of winning the car is 1/3 independently of the choice to switch doors or not. Howewver, the odds of winning if you switch doors are 2/3 and greater than if you decide not to switch. While there are theoretical solutions to this problem that allow us to estimate the correct odds of winning in each scenario -- switching or not doors -- an alternative way to proof such outcome is through computer simulations. That is the goal of this exercise, to write the necessary components to simulate the Monty Hall problem and validate the theoretical results through simulations.\n",
    "\n",
    "In this exercise, start by implementing a function that simulates one instance of the Monty Hall problem. \n",
    "In that sense, write a function called MontyHall that accepts **one argument**:\n",
    "- A boolean (True/False, or 1/0) that specifies if the player switches doors or not (after the host has opened his door, which contains a goat).\n",
    "The function should return True if the player wins the car or False if not.\n",
    "\n",
    "Naturally, for the function to reproduce the contest it needs to consider and perform some actions, such as:\n",
    "- Set up the game, that is, create the necessary variables to store the information about three doors and what they have behind, as well as an indicator to track the choice of the player.\n",
    "- Given the initial choice of the player, simulate the opening of one of the two remaining doors that contains a goat.\n",
    "- Given the last two doors left, simulate if the player wants to switch or not his/her choice given their strategy (defined by the input boolean argument of the function).\n",
    "- Output the result, if the contestant correctly guesses which door hides the car or if not.\n",
    "\n",
    "The function MontyHall should simulate one instance of the contest given the choice of the player (to switch or not).\n",
    "\n",
    "**The goal is to understand, statistically, which action leads to the highest probability of winning.** <br>\n",
    "*Note: You should use the library random to solve this exercise.*"
   ]
  },
  {
   "cell_type": "code",
   "execution_count": null,
   "metadata": {},
   "outputs": [],
   "source": []
  },
  {
   "cell_type": "markdown",
   "metadata": {},
   "source": [
    "**18.1** Now that you have a function that simulates an instance of the Monty Hall problem, implement an experiment where you repeat many times (thousands of times) for each of the two possible scenarios: player switching the door, and player not switcing the door. Keep track of the results and estimate the frequencies of wins for each scenario and discuss if the results are inline with the theoretical odds."
   ]
  },
  {
   "cell_type": "code",
   "execution_count": null,
   "metadata": {},
   "outputs": [],
   "source": []
  },
  {
   "cell_type": "markdown",
   "metadata": {},
   "source": [
    "## Exercise III\n",
    "\n",
    "**19**: Consider the list *A*, declared below. <br>\n",
    "Use the function map() to change the values of A by adding 1 to each value if it is even and subtracting 1 to it otherwise."
   ]
  },
  {
   "cell_type": "code",
   "execution_count": null,
   "metadata": {},
   "outputs": [],
   "source": [
    "A = [460,3347,3044,490,699,1258,1804,973,2223,3416,2879,1058,2915,2422,351,1543,1020,208,643,795,3337,2585,471,2623,1077]"
   ]
  },
  {
   "cell_type": "code",
   "execution_count": null,
   "metadata": {},
   "outputs": [],
   "source": []
  },
  {
   "cell_type": "markdown",
   "metadata": {},
   "source": [
    "**20**: Create a list B with the same size of A, where each element is True if the associated value in list A is greater than 700, else is False."
   ]
  },
  {
   "cell_type": "code",
   "execution_count": null,
   "metadata": {},
   "outputs": [],
   "source": []
  },
  {
   "cell_type": "markdown",
   "metadata": {},
   "source": [
    "**21**: Create a list L that contains the Logarithm of base 10 of each value in A. <br>\n",
    "\n",
    "*Note: You should use the module math to solve this exercise.*"
   ]
  },
  {
   "cell_type": "code",
   "execution_count": null,
   "metadata": {},
   "outputs": [],
   "source": []
  },
  {
   "cell_type": "markdown",
   "metadata": {},
   "source": [
    "**22**: How many numbers in A are greater than 1000? <br>\n",
    "\n",
    "*Note: You should use the function filter().*"
   ]
  },
  {
   "cell_type": "code",
   "execution_count": null,
   "metadata": {},
   "outputs": [],
   "source": []
  },
  {
   "cell_type": "markdown",
   "metadata": {},
   "source": [
    "**23:** Use the function isPrime, that you declared in 17.3, to identify which numbers from A are prime. Note that depending on your implementation of isPrime this task can take more or less time. Use filter to achieve this task."
   ]
  },
  {
   "cell_type": "code",
   "execution_count": null,
   "metadata": {},
   "outputs": [],
   "source": []
  },
  {
   "cell_type": "markdown",
   "metadata": {},
   "source": [
    "### Congratulations, it is done!"
   ]
  },
  {
   "cell_type": "markdown",
   "metadata": {},
   "source": [
    "![LEO_GOOD_JOB](https://www.idlememe.com/wp-content/uploads/2022/01/good-job-meme-idlememe-3.jpg)"
   ]
  },
  {
   "cell_type": "code",
   "execution_count": null,
   "metadata": {},
   "outputs": [],
   "source": []
  }
 ],
 "metadata": {
  "kernelspec": {
   "display_name": "Python 3 (ipykernel)",
   "language": "python",
   "name": "python3"
  },
  "language_info": {
   "codemirror_mode": {
    "name": "ipython",
    "version": 3
   },
   "file_extension": ".py",
   "mimetype": "text/x-python",
   "name": "python",
   "nbconvert_exporter": "python",
   "pygments_lexer": "ipython3",
   "version": "3.11.5"
  }
 },
 "nbformat": 4,
 "nbformat_minor": 2
}
